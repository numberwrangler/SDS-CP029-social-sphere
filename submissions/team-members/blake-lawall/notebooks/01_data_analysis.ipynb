{
 "cells": [
  {
   "cell_type": "markdown",
   "metadata": {},
   "source": [
    "# 📊 Social Media Addiction Data Analysis\n",
    "\n",
    "This notebook provides comprehensive analysis of the social media addiction dataset, including data exploration, preprocessing, and initial insights."
   ]
  },
  {
   "cell_type": "code",
   "execution_count": null,
   "metadata": {},
   "outputs": [],
   "source": [
    "# Import necessary libraries\n",
    "import pandas as pd\n",
    "import numpy as np\n",
    "import matplotlib.pyplot as plt\n",
    "import seaborn as sns\n",
    "from sklearn.preprocessing import LabelEncoder, StandardScaler\n",
    "from sklearn.model_selection import train_test_split\n",
    "import warnings\n",
    "warnings.filterwarnings('ignore')\n",
    "\n",
    "# Set style for better visualizations\n",
    "plt.style.use('seaborn-v0_8')\n",
    "sns.set_palette(\"husl\")\n",
    "plt.rcParams['figure.figsize'] = (12, 8)"
   ]
  },
  {
   "cell_type": "code",
   "execution_count": null,
   "metadata": {},
   "outputs": [],
   "source": [
    "# Load the dataset\n",
    "df = pd.read_csv('../data/Students Social Media Addiction.csv')\n",
    "print(f\"Dataset shape: {df.shape}\")\n",
    "print(f\"Columns: {list(df.columns)}\")\n",
    "df.head()"
   ]
  },
  {
   "cell_type": "code",
   "execution_count": null,
   "metadata": {},
   "outputs": [],
   "source": [
    "# Basic information about the dataset\n",
    "print(\"=== DATASET INFO ===\")\n",
    "print(df.info())\n",
    "print(\"\\n=== MISSING VALUES ===\")\n",
    "print(df.isnull().sum())\n",
    "print(\"\\n=== DATA TYPES ===\")\n",
    "print(df.dtypes)"
   ]
  },
  {
   "cell_type": "code",
   "execution_count": null,
   "metadata": {},
   "outputs": [],
   "source": [
    "# Statistical summary\n",
    "print(\"=== NUMERICAL FEATURES SUMMARY ===\")\n",
    "print(df.describe())\n",
    "\n",
    "print(\"\\n=== CATEGORICAL FEATURES SUMMARY ===\")\n",
    "categorical_cols = df.select_dtypes(include=['object']).columns\n",
    "for col in categorical_cols:\n",
    "    print(f\"\\n{col}:\")\n",
    "    print(df[col].value_counts())"
   ]
  },
  {
   "cell_type": "code",
   "execution_count": null,
   "metadata": {},
   "outputs": [],
   "source": [
    "# Visualize numerical features distribution\n",
    "numerical_cols = df.select_dtypes(include=[np.number]).columns\n",
    "fig, axes = plt.subplots(2, 3, figsize=(18, 12))\n",
    "axes = axes.ravel()\n",
    "\n",
    "for i, col in enumerate(numerical_cols):\n",
    "    if i < len(axes):\n",
    "        sns.histplot(df[col], kde=True, ax=axes[i])\n",
    "        axes[i].set_title(f'Distribution of {col}')\n",
    "        axes[i].set_xlabel(col)\n",
    "        axes[i].set_ylabel('Frequency')\n",
    "\n",
    "plt.tight_layout()\n",
    "plt.show()"
   ]
  },
  {
   "cell_type": "code",
   "execution_count": null,
   "metadata": {},
   "outputs": [],
   "source": [
    "# Visualize categorical features\n",
    "fig, axes = plt.subplots(2, 2, figsize=(16, 12))\n",
    "axes = axes.ravel()\n",
    "\n",
    "for i, col in enumerate(categorical_cols[:4]):\n",
    "    if i < len(axes):\n",
    "        df[col].value_counts().plot(kind='bar', ax=axes[i])\n",
    "        axes[i].set_title(f'Distribution of {col}')\n",
    "        axes[i].set_xlabel(col)\n",
    "        axes[i].set_ylabel('Count')\n",
    "        axes[i].tick_params(axis='x', rotation=45)\n",
    "\n",
    "plt.tight_layout()\n",
    "plt.show()"
   ]
  },
  {
   "cell_type": "code",
   "execution_count": null,
   "metadata": {},
   "outputs": [],
   "source": [
    "# Correlation analysis\n",
    "plt.figure(figsize=(12, 10))\n",
    "correlation_matrix = df[numerical_cols].corr()\n",
    "sns.heatmap(correlation_matrix, annot=True, cmap='coolwarm', center=0,\n",
    "            square=True, linewidths=0.5)\n",
    "plt.title('Correlation Matrix of Numerical Features')\n",
    "plt.tight_layout()\n",
    "plt.show()"
   ]
  },
  {
   "cell_type": "code",
   "execution_count": null,
   "metadata": {},
   "outputs": [],
   "source": [
    "# Analyze relationships with target variables\n",
    "fig, axes = plt.subplots(2, 2, figsize=(16, 12))\n",
    "\n",
    "# Conflicts vs Age\n",
    "axes[0, 0].scatter(df['Age'], df['Conflicts_Over_Social_Media'], alpha=0.6)\n",
    "axes[0, 0].set_xlabel('Age')\n",
    "axes[0, 0].set_ylabel('Conflicts Over Social Media')\n",
    "axes[0, 0].set_title('Age vs Conflicts')\n",
    "\n",
    "# Addiction Score vs Daily Usage\n",
    "axes[0, 1].scatter(df['Avg_Daily_Usage_Hours'], df['Addicted_Score'], alpha=0.6)\n",
    "axes[0, 1].set_xlabel('Average Daily Usage (Hours)')\n",
    "axes[0, 1].set_ylabel('Addiction Score')\n",
    "axes[0, 1].set_title('Daily Usage vs Addiction Score')\n",
    "\n",
    "# Sleep vs Addiction Score\n",
    "axes[1, 0].scatter(df['Sleep_Hours_Per_Night'], df['Addicted_Score'], alpha=0.6)\n",
    "axes[1, 0].set_xlabel('Sleep Hours Per Night')\n",
    "axes[1, 0].set_ylabel('Addiction Score')\n",
    "axes[1, 0].set_title('Sleep vs Addiction Score')\n",
    "\n",
    "# Mental Health vs Addiction Score\n",
    "axes[1, 1].scatter(df['Mental_Health_Score'], df['Addicted_Score'], alpha=0.6)\n",
    "axes[1, 1].set_xlabel('Mental Health Score')\n",
    "axes[1, 1].set_ylabel('Addiction Score')\n",
    "axes[1, 1].set_title('Mental Health vs Addiction Score')\n",
    "\n",
    "plt.tight_layout()\n",
    "plt.show()"
   ]
  },
  {
   "cell_type": "code",
   "execution_count": null,
   "metadata": {},
   "outputs": [],
   "source": [
    "# Save cleaned data\n",
    "df.to_csv('../data/cleaned_data.csv', index=False)\n",
    "print(\"Cleaned data saved to '../data/cleaned_data.csv'\")\n",
    "\n",
    "# Summary statistics\n",
    "print(\"\\n=== SUMMARY STATISTICS ===\")\n",
    "print(f\"Total samples: {len(df)}\")\n",
    "print(f\"Age range: {df['Age'].min()} - {df['Age'].max()}\")\n",
    "print(f\"Average addiction score: {df['Addicted_Score'].mean():.2f}\")\n",
    "print(f\"Average conflicts: {df['Conflicts_Over_Social_Media'].mean():.2f}\")\n",
    "print(f\"Most used platform: {df['Most_Used_Platform'].mode()[0]}\")"
   ]
  }
 ],
 "metadata": {
  "kernelspec": {
   "display_name": "Python 3",
   "language": "python",
   "name": "python3"
  },
  "language_info": {
   "codemirror_mode": {
    "name": "ipython",
    "version": 3
   },
   "file_extension": ".py",
   "mimetype": "text/x-python",
   "name": "python",
   "nbconvert_exporter": "python",
   "pygments_lexer": "ipython3",
   "version": "3.8.5"
  }
 },
 "nbformat": 4,
 "nbformat_minor": 4
}