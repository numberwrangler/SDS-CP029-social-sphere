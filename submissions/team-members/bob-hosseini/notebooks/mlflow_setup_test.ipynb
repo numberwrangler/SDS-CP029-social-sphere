{
 "cells": [
  {
   "cell_type": "markdown",
   "metadata": {},
   "source": [
    "# Mlflow setup test\n",
    "\n",
    "This notebook is used to test the mlflow setup with a dummy classification experiment."
   ]
  },
  {
   "cell_type": "code",
   "execution_count": 1,
   "metadata": {},
   "outputs": [
    {
     "data": {
      "text/html": [
       "<pre style=\"white-space:pre;overflow-x:auto;line-height:normal;font-family:Menlo,'DejaVu Sans Mono',consolas,'Courier New',monospace\">Accessing as bab-git\n",
       "</pre>\n"
      ],
      "text/plain": [
       "Accessing as bab-git\n"
      ]
     },
     "metadata": {},
     "output_type": "display_data"
    },
    {
     "data": {
      "text/html": [
       "<pre style=\"white-space:pre;overflow-x:auto;line-height:normal;font-family:Menlo,'DejaVu Sans Mono',consolas,'Courier New',monospace\">Initialized MLflow to track repo <span style=\"color: #008000; text-decoration-color: #008000\">\"bab-git/SDS-social-sphere\"</span>\n",
       "</pre>\n"
      ],
      "text/plain": [
       "Initialized MLflow to track repo \u001b[32m\"bab-git/SDS-social-sphere\"\u001b[0m\n"
      ]
     },
     "metadata": {},
     "output_type": "display_data"
    },
    {
     "data": {
      "text/html": [
       "<pre style=\"white-space:pre;overflow-x:auto;line-height:normal;font-family:Menlo,'DejaVu Sans Mono',consolas,'Courier New',monospace\">Repository bab-git/SDS-social-sphere initialized!\n",
       "</pre>\n"
      ],
      "text/plain": [
       "Repository bab-git/SDS-social-sphere initialized!\n"
      ]
     },
     "metadata": {},
     "output_type": "display_data"
    },
    {
     "name": "stdout",
     "output_type": "stream",
     "text": [
      "f15e997b9299f1ec88303326e6e9474869c628e8\n",
      "bab-git\n",
      "SDS-social-sphere\n"
     ]
    }
   ],
   "source": [
    "import mlflow\n",
    "import dagshub\n",
    "from mlflow.tracking import MlflowClient\n",
    "import os\n",
    "\n",
    "from dotenv import load_dotenv, find_dotenv\n",
    "\n",
    "# Automatically find and load .env file from any parent directory\n",
    "load_dotenv(find_dotenv())\n",
    "\n",
    "DAGSHUB_USER_NAME = os.getenv(\"DAGSHUB_USER_NAME\")\n",
    "DAGSHUB_TOKEN = os.getenv(\"DAGSHUB_TOKEN\")\n",
    "# tracking_uri = os.getenv(\"MLFLOW_TRACKING_URI\")\n",
    "DAGSHUB_REPO = os.getenv(\"DAGSHUB_REPO\")\n",
    "\n",
    "\n",
    "# ✅ Set credentials and tracking URI\n",
    "# os.environ[\"MLFLOW_TRACKING_USERNAME\"] = DAGSHUB_USER_NAME\n",
    "os.environ[\"MLFLOW_TRACKING_PASSWORD\"] = DAGSHUB_TOKEN\n",
    "# os.environ['MLFLOW_TRACKING_URI']=f\"https://dagshub.com/{DAGSHUB_USER_NAME}/{DAGSHUB_REPO}.mlflow\"\n",
    "# tracking_uri = os.environ['MLFLOW_TRACKING_URI']\n",
    "# mlflow.set_tracking_uri(tracking_uri)\n",
    "\n",
    "# mlflow.set_experiment(\"socialsphere_classification\")\n",
    "\n",
    "# Initialize DagsHub tracking\n",
    "dagshub.init(repo_owner=DAGSHUB_USER_NAME, repo_name=DAGSHUB_REPO, mlflow=True)\n",
    "\n",
    "# Set tracking URI to local directory\n",
    "# mlflow.set_tracking_uri(\"file:../mlruns\")  # Adjust path as needed if notebook is nested\n",
    "\n",
    "# Set experiment\n",
    "# mlflow.set_experiment(\"Test_Classification2\")\n",
    "\n",
    "# Create or get experiment\n",
    "experiment_name = \"Classification_Conflicts\"\n",
    "mlflow.set_experiment(experiment_name)\n",
    "# DAGSHUB_TOKEN\n",
    "print(DAGSHUB_TOKEN)\n",
    "print(DAGSHUB_USER_NAME)\n",
    "print(DAGSHUB_REPO)\n",
    "# print(tracking_uri)"
   ]
  },
  {
   "cell_type": "code",
   "execution_count": null,
   "metadata": {},
   "outputs": [
    {
     "name": "stderr",
     "output_type": "stream",
     "text": [
      "/opt/anaconda3/envs/c29env/lib/python3.12/site-packages/mlflow/types/utils.py:452: UserWarning: Hint: Inferred schema contains integer column(s). Integer columns in Python cannot represent missing values. If your input data contains missing values at inference time, it will be encoded as floats and will cause a schema enforcement error. The best way to avoid this problem is to infer the model schema based on a realistic data sample (training dataset) that includes missing values. Alternatively, you can declare integer columns as doubles (float64) whenever these columns may have missing values. See `Handling Integers With Missing Values <https://www.mlflow.org/docs/latest/models.html#handling-integers-with-missing-values>`_ for more details.\n",
      "  warnings.warn(\n"
     ]
    },
    {
     "name": "stdout",
     "output_type": "stream",
     "text": [
      "🏃 View run charming-yak-137 at: https://dagshub.com/bab-git/SDS-social-sphere.mlflow/#/experiments/2/runs/6f6ace86cfda4e73af2e5625c7107754\n",
      "🧪 View experiment at: https://dagshub.com/bab-git/SDS-social-sphere.mlflow/#/experiments/2\n"
     ]
    }
   ],
   "source": [
    "from sklearn.dummy import DummyClassifier\n",
    "from sklearn.model_selection import train_test_split\n",
    "from sklearn.metrics import accuracy_score\n",
    "import pandas as pd\n",
    "import mlflow.sklearn\n",
    "import shutil\n",
    "\n",
    "# dagshub.init('bab-git', 'SDS-social-sphere')\n",
    "# mlflow.set_tracking_uri('https://dagshub.com/bab-git/SDS-social-sphere.mlflow')\n",
    "# mlflow.sklearn.autolog()\n",
    "\n",
    "# Minimal dummy data\n",
    "X = pd.DataFrame({\"feature1\": [1, 0, 1, 0], \"feature2\": [0, 1, 1, 0]})\n",
    "y = [1, 0, 1, 0]\n",
    "\n",
    "X_train, X_test, y_train, y_test = train_test_split(X, y, test_size=0.5, random_state=42)\n",
    "\n",
    "from mlflow.models.signature import infer_signature\n",
    "\n",
    "\n",
    "\n",
    "with mlflow.start_run():\n",
    "    clf = DummyClassifier(strategy=\"most_frequent\")\n",
    "    clf.fit(X_train, y_train)\n",
    "    preds = clf.predict(X_test)\n",
    "    acc = accuracy_score(y_test, preds)\n",
    "\n",
    "    signature = infer_signature(X_test, preds)\n",
    "    \n",
    "    mlflow.log_param(\"strategy\", \"most_frequent\")\n",
    "    mlflow.log_metric(\"accuracy\", acc)\n",
    "\n",
    "    # 1) save locally\n",
    "    shutil.rmtree(\"tmp_model\", ignore_errors=True)\n",
    "    # mlflow.sklearn.save_model(clf, path=\"tmp_model\")\n",
    "    # 2) push as artifacts\n",
    "    # mlflow.log_artifacts(\"tmp_model\", artifact_path=\"my_model\")\n",
    "\n",
    "    mlflow.sklearn.log_model(\n",
    "        clf, \n",
    "        artifact_path=\"dummy_model\", \n",
    "        signature=signature,\n",
    "        input_example=X_test.iloc[0:1]\n",
    "        )\n"
   ]
  },
  {
   "cell_type": "markdown",
   "metadata": {},
   "source": [
    "# Using registered model from MLflow"
   ]
  },
  {
   "cell_type": "markdown",
   "metadata": {},
   "source": [
    "## Loading the model"
   ]
  },
  {
   "cell_type": "code",
   "execution_count": 2,
   "metadata": {},
   "outputs": [
    {
     "name": "stdout",
     "output_type": "stream",
     "text": [
      "Current MLflow tracking URI: https://dagshub.com/bab-git/SDS-social-sphere.mlflow\n"
     ]
    }
   ],
   "source": [
    "import mlflow\n",
    "import requests\n",
    "\n",
    "# Check current tracking URI\n",
    "tracking_uri = \"https://dagshub.com/bab-git/SDS-social-sphere.mlflow\"\n",
    "mlflow.set_tracking_uri(tracking_uri)\n",
    "print(f\"Current MLflow tracking URI: {mlflow.get_tracking_uri()}\")"
   ]
  },
  {
   "cell_type": "code",
   "execution_count": 1,
   "metadata": {},
   "outputs": [
    {
     "name": "stderr",
     "output_type": "stream",
     "text": [
      "/opt/anaconda3/envs/c29env/lib/python3.12/site-packages/tqdm/auto.py:21: TqdmWarning: IProgress not found. Please update jupyter and ipywidgets. See https://ipywidgets.readthedocs.io/en/stable/user_install.html\n",
      "  from .autonotebook import tqdm as notebook_tqdm\n",
      "Downloading artifacts: 100%|██████████| 7/7 [00:00<00:00, 14.57it/s]\n"
     ]
    },
    {
     "name": "stdout",
     "output_type": "stream",
     "text": [
      "Input data:\n"
     ]
    },
    {
     "data": {
      "text/html": [
       "<div>\n",
       "<style scoped>\n",
       "    .dataframe tbody tr th:only-of-type {\n",
       "        vertical-align: middle;\n",
       "    }\n",
       "\n",
       "    .dataframe tbody tr th {\n",
       "        vertical-align: top;\n",
       "    }\n",
       "\n",
       "    .dataframe thead th {\n",
       "        text-align: right;\n",
       "    }\n",
       "</style>\n",
       "<table border=\"1\" class=\"dataframe\">\n",
       "  <thead>\n",
       "    <tr style=\"text-align: right;\">\n",
       "      <th></th>\n",
       "      <th>Age</th>\n",
       "      <th>Gender</th>\n",
       "      <th>Academic_Level</th>\n",
       "      <th>Country</th>\n",
       "      <th>Daily_Usage</th>\n",
       "      <th>Platform</th>\n",
       "      <th>Academic_Affects</th>\n",
       "      <th>Sleep_Hrs</th>\n",
       "      <th>Mental_Health</th>\n",
       "      <th>Relationship_Status</th>\n",
       "    </tr>\n",
       "  </thead>\n",
       "  <tbody>\n",
       "    <tr>\n",
       "      <th>0</th>\n",
       "      <td>20</td>\n",
       "      <td>Female</td>\n",
       "      <td>Undergraduate</td>\n",
       "      <td>Bangladesh</td>\n",
       "      <td>4.9</td>\n",
       "      <td>Instagram</td>\n",
       "      <td>Yes</td>\n",
       "      <td>6.4</td>\n",
       "      <td>5</td>\n",
       "      <td>Single</td>\n",
       "    </tr>\n",
       "    <tr>\n",
       "      <th>1</th>\n",
       "      <td>20</td>\n",
       "      <td>Female</td>\n",
       "      <td>Undergraduate</td>\n",
       "      <td>UAE</td>\n",
       "      <td>6.9</td>\n",
       "      <td>Instagram</td>\n",
       "      <td>Yes</td>\n",
       "      <td>6.1</td>\n",
       "      <td>5</td>\n",
       "      <td>In Relationship</td>\n",
       "    </tr>\n",
       "    <tr>\n",
       "      <th>2</th>\n",
       "      <td>21</td>\n",
       "      <td>Male</td>\n",
       "      <td>Graduate</td>\n",
       "      <td>UK</td>\n",
       "      <td>5.0</td>\n",
       "      <td>Facebook</td>\n",
       "      <td>Yes</td>\n",
       "      <td>6.6</td>\n",
       "      <td>6</td>\n",
       "      <td>In Relationship</td>\n",
       "    </tr>\n",
       "    <tr>\n",
       "      <th>3</th>\n",
       "      <td>20</td>\n",
       "      <td>Female</td>\n",
       "      <td>Undergraduate</td>\n",
       "      <td>Ireland</td>\n",
       "      <td>4.5</td>\n",
       "      <td>TikTok</td>\n",
       "      <td>Yes</td>\n",
       "      <td>7.4</td>\n",
       "      <td>7</td>\n",
       "      <td>Single</td>\n",
       "    </tr>\n",
       "    <tr>\n",
       "      <th>4</th>\n",
       "      <td>21</td>\n",
       "      <td>Female</td>\n",
       "      <td>Undergraduate</td>\n",
       "      <td>India</td>\n",
       "      <td>5.8</td>\n",
       "      <td>TikTok</td>\n",
       "      <td>Yes</td>\n",
       "      <td>5.9</td>\n",
       "      <td>6</td>\n",
       "      <td>In Relationship</td>\n",
       "    </tr>\n",
       "  </tbody>\n",
       "</table>\n",
       "</div>"
      ],
      "text/plain": [
       "   Age  Gender Academic_Level     Country  Daily_Usage   Platform  \\\n",
       "0   20  Female  Undergraduate  Bangladesh          4.9  Instagram   \n",
       "1   20  Female  Undergraduate         UAE          6.9  Instagram   \n",
       "2   21    Male       Graduate          UK          5.0   Facebook   \n",
       "3   20  Female  Undergraduate     Ireland          4.5     TikTok   \n",
       "4   21  Female  Undergraduate       India          5.8     TikTok   \n",
       "\n",
       "  Academic_Affects  Sleep_Hrs  Mental_Health Relationship_Status  \n",
       "0              Yes        6.4              5              Single  \n",
       "1              Yes        6.1              5     In Relationship  \n",
       "2              Yes        6.6              6     In Relationship  \n",
       "3              Yes        7.4              7              Single  \n",
       "4              Yes        5.9              6     In Relationship  "
      ]
     },
     "execution_count": 1,
     "metadata": {},
     "output_type": "execute_result"
    }
   ],
   "source": [
    "import mlflow\n",
    "# from mlflow.models import Model\n",
    "import sys\n",
    "sys.path.append('../src')\n",
    "import regression\n",
    "\n",
    "# model_uri = 'runs:/a7f3a1fd156443e58e7554ac1e8b53fa/model' # conflict_catboost_multiclass\n",
    "model_uri = 'runs:/3edb39904209419ab4d30ea0a00b79f1/model' # catboost_binary_classifier\n",
    "# model_uri = 'runs:/83b6b586aa6048ac85ba95485b5a50a0/model' # conflict logistic\n",
    "# model_uri = 'runs:/594b916daee046ff8f9fa0ed3aed8748/model' # addicted_score_baseline\n",
    "\n",
    "artifact_path = \"shap_summary.png\"\n",
    "# The model is logged with an input example\n",
    "pyfunc_model = mlflow.pyfunc.load_model(model_uri)\n",
    "input_data = pyfunc_model.input_example\n",
    "\n",
    "print(\"Input data:\")\n",
    "input_data.head()"
   ]
  },
  {
   "cell_type": "markdown",
   "metadata": {},
   "source": [
    "## Predicting with the model"
   ]
  },
  {
   "cell_type": "code",
   "execution_count": 20,
   "metadata": {},
   "outputs": [
    {
     "name": "stdout",
     "output_type": "stream",
     "text": [
      "\n",
      "Prediction results:\n",
      "[1 1 1 1 1]\n"
     ]
    }
   ],
   "source": [
    "# 1️⃣ Get predictions directly\n",
    "predictions = pyfunc_model.predict(input_data)\n",
    "\n",
    "print(\"\\nPrediction results:\")\n",
    "print(predictions)"
   ]
  },
  {
   "cell_type": "markdown",
   "metadata": {},
   "source": [
    "## SHAP analysis"
   ]
  },
  {
   "cell_type": "code",
   "execution_count": null,
   "metadata": {},
   "outputs": [
    {
     "name": "stderr",
     "output_type": "stream",
     "text": [
      "Downloading artifacts: 100%|██████████| 7/7 [00:00<00:00, 17.85it/s]\n",
      "Downloading artifacts: 100%|██████████| 7/7 [00:07<00:00,  1.00s/it]\n"
     ]
    }
   ],
   "source": [
    "import mlflow.pyfunc, mlflow.sklearn\n",
    "import shap\n",
    "import pandas as pd\n",
    "\n",
    "# 1) Load the PyFunc to get your input_example\n",
    "# model_uri = \"runs:/594b916daee046ff8f9fa0ed3aed8748/model\"\n",
    "pyfunc_model = mlflow.pyfunc.load_model(model_uri)\n",
    "input_df = pyfunc_model.input_example\n",
    "\n",
    "import pickle\n",
    "with open('../data/data_cleaned.pickle', 'rb') as f:\n",
    "    input_df = pickle.load(f)\n",
    "# input_df\n",
    "# 2) Load the sklearn Pipeline for SHAP\n",
    "pipe = mlflow.sklearn.load_model(model_uri)\n"
   ]
  },
  {
   "cell_type": "code",
   "execution_count": 26,
   "metadata": {},
   "outputs": [
    {
     "name": "stdout",
     "output_type": "stream",
     "text": [
      "Pipeline prediction for sample row:\n",
      "[1 0 1 0 0 1 1 0 0 1]\n"
     ]
    }
   ],
   "source": [
    "# Use the sklearn pipeline (pipe) to predict using a sample row from input_df\n",
    "sample = input_df.iloc[0:10]\n",
    "pipe_prediction = pipe.predict(sample)\n",
    "print(\"Pipeline prediction for sample row:\")\n",
    "print(pipe_prediction)\n"
   ]
  },
  {
   "cell_type": "code",
   "execution_count": null,
   "metadata": {},
   "outputs": [
    {
     "name": "stdout",
     "output_type": "stream",
     "text": [
      "The autoreload extension is already loaded. To reload it, use:\n",
      "  %reload_ext autoreload\n",
      "Model name: CatBoostClassifier\n",
      "CatBoost SHAP plot type: bar\n"
     ]
    },
    {
     "data": {
      "image/png": "[encoded data removed]",
      "text/plain": [
       "<Figure size 800x470 with 1 Axes>"
      ]
     },
     "execution_count": 21,
     "metadata": {},
     "output_type": "execute_result"
    }
   ],
   "source": [
    "# --- IPython/Jupyter Extensions ---\n",
    "%load_ext autoreload\n",
    "%autoreload 2\n",
    "from utils import run_shap_experiment\n",
    "from sklearn.pipeline import Pipeline\n",
    "\n",
    "# model_type=\"regression\"\n",
    "model_type=\"classification\" \n",
    "# feature_perturbation = \"tree_path_dependent\"\n",
    "\n",
    "sample = input_df.iloc[0:1]\n",
    "run_shap_experiment(\n",
    "    best_model=pipe,\n",
    "    X_train_full=sample,    \n",
    "    plot_type='violin', # other options: \"bar\", \"dot\", \"violin\"\n",
    "    shap_type='tree',\n",
    "    # feature_perturbation=feature_perturbation,\n",
    "    model_type=model_type,\n",
    "    figsize=(8, 5)\n",
    ")"
   ]
  },
  {
   "cell_type": "code",
   "execution_count": 6,
   "metadata": {},
   "outputs": [
    {
     "ename": "ValueError",
     "evalue": "Cannot take a larger sample than population when 'replace=False'",
     "output_type": "error",
     "traceback": [
      "\u001b[31m---------------------------------------------------------------------------\u001b[39m",
      "\u001b[31mValueError\u001b[39m                                Traceback (most recent call last)",
      "\u001b[36mCell\u001b[39m\u001b[36m \u001b[39m\u001b[32mIn[6]\u001b[39m\u001b[32m, line 16\u001b[39m\n\u001b[32m     14\u001b[39m \u001b[38;5;66;03m# 5) Choose a single row to explain\u001b[39;00m\n\u001b[32m     15\u001b[39m sample = input_df.iloc[\u001b[32m0\u001b[39m:\u001b[32m1\u001b[39m]\n\u001b[32m---> \u001b[39m\u001b[32m16\u001b[39m sample = \u001b[43minput_data\u001b[49m\u001b[43m.\u001b[49m\u001b[43msample\u001b[49m\u001b[43m(\u001b[49m\u001b[43mn\u001b[49m\u001b[43m=\u001b[49m\u001b[32;43m200\u001b[39;49m\u001b[43m)\u001b[49m\n\u001b[32m     17\u001b[39m X_shap_proc = preprocessor.transform(sample)\n\u001b[32m     18\u001b[39m \u001b[38;5;28;01mif\u001b[39;00m sparse.issparse(X_shap_proc):\n",
      "\u001b[36mFile \u001b[39m\u001b[32m/opt/anaconda3/envs/c29env/lib/python3.12/site-packages/pandas/core/generic.py:6137\u001b[39m, in \u001b[36mNDFrame.sample\u001b[39m\u001b[34m(self, n, frac, replace, weights, random_state, axis, ignore_index)\u001b[39m\n\u001b[32m   6134\u001b[39m \u001b[38;5;28;01mif\u001b[39;00m weights \u001b[38;5;129;01mis\u001b[39;00m \u001b[38;5;129;01mnot\u001b[39;00m \u001b[38;5;28;01mNone\u001b[39;00m:\n\u001b[32m   6135\u001b[39m     weights = sample.preprocess_weights(\u001b[38;5;28mself\u001b[39m, weights, axis)\n\u001b[32m-> \u001b[39m\u001b[32m6137\u001b[39m sampled_indices = \u001b[43msample\u001b[49m\u001b[43m.\u001b[49m\u001b[43msample\u001b[49m\u001b[43m(\u001b[49m\u001b[43mobj_len\u001b[49m\u001b[43m,\u001b[49m\u001b[43m \u001b[49m\u001b[43msize\u001b[49m\u001b[43m,\u001b[49m\u001b[43m \u001b[49m\u001b[43mreplace\u001b[49m\u001b[43m,\u001b[49m\u001b[43m \u001b[49m\u001b[43mweights\u001b[49m\u001b[43m,\u001b[49m\u001b[43m \u001b[49m\u001b[43mrs\u001b[49m\u001b[43m)\u001b[49m\n\u001b[32m   6138\u001b[39m result = \u001b[38;5;28mself\u001b[39m.take(sampled_indices, axis=axis)\n\u001b[32m   6140\u001b[39m \u001b[38;5;28;01mif\u001b[39;00m ignore_index:\n",
      "\u001b[36mFile \u001b[39m\u001b[32m/opt/anaconda3/envs/c29env/lib/python3.12/site-packages/pandas/core/sample.py:152\u001b[39m, in \u001b[36msample\u001b[39m\u001b[34m(obj_len, size, replace, weights, random_state)\u001b[39m\n\u001b[32m    149\u001b[39m     \u001b[38;5;28;01melse\u001b[39;00m:\n\u001b[32m    150\u001b[39m         \u001b[38;5;28;01mraise\u001b[39;00m \u001b[38;5;167;01mValueError\u001b[39;00m(\u001b[33m\"\u001b[39m\u001b[33mInvalid weights: weights sum to zero\u001b[39m\u001b[33m\"\u001b[39m)\n\u001b[32m--> \u001b[39m\u001b[32m152\u001b[39m \u001b[38;5;28;01mreturn\u001b[39;00m \u001b[43mrandom_state\u001b[49m\u001b[43m.\u001b[49m\u001b[43mchoice\u001b[49m\u001b[43m(\u001b[49m\u001b[43mobj_len\u001b[49m\u001b[43m,\u001b[49m\u001b[43m \u001b[49m\u001b[43msize\u001b[49m\u001b[43m=\u001b[49m\u001b[43msize\u001b[49m\u001b[43m,\u001b[49m\u001b[43m \u001b[49m\u001b[43mreplace\u001b[49m\u001b[43m=\u001b[49m\u001b[43mreplace\u001b[49m\u001b[43m,\u001b[49m\u001b[43m \u001b[49m\u001b[43mp\u001b[49m\u001b[43m=\u001b[49m\u001b[43mweights\u001b[49m\u001b[43m)\u001b[49m.astype(\n\u001b[32m    153\u001b[39m     np.intp, copy=\u001b[38;5;28;01mFalse\u001b[39;00m\n\u001b[32m    154\u001b[39m )\n",
      "\u001b[36mFile \u001b[39m\u001b[32mnumpy/random/mtrand.pyx:1020\u001b[39m, in \u001b[36mnumpy.random.mtrand.RandomState.choice\u001b[39m\u001b[34m()\u001b[39m\n",
      "\u001b[31mValueError\u001b[39m: Cannot take a larger sample than population when 'replace=False'"
     ]
    }
   ],
   "source": [
    "\n",
    "# 3) Define a background for SHAP (here we sample up to 100 rows from your example set)\n",
    "n_bg = min(len(input_df), 100)\n",
    "background = input_df.sample(n_bg, random_state=42)\n",
    "\n",
    "model   = pipe.named_steps['classifier']\n",
    "preprocessor = pipe.named_steps['preprocessing']\n",
    "\n",
    "from utils import get_feature_names\n",
    "from scipy import sparse\n",
    "\n",
    "# 4) Create a TreeExplainer around your pipeline\n",
    "explainer = shap.TreeExplainer(model, feature_perturbation=\"tree_path_dependent\")\n",
    "\n",
    "# 5) Choose a single row to explain\n",
    "sample = input_df.iloc[0:1]\n",
    "sample = input_data.sample(n=200)\n",
    "X_shap_proc = preprocessor.transform(sample)\n",
    "if sparse.issparse(X_shap_proc):\n",
    "    X_shap_proc = X_shap_proc.toarray()\n",
    "plot_type = \"bar\" \n",
    "feature_names = get_feature_names(preprocessor)\n",
    "X_shap_df = pd.DataFrame(X_shap_proc, columns=feature_names)\n",
    "# 6) Compute SHAP values\n",
    "shap_values = explainer.shap_values(X_shap_df)\n",
    "\n",
    "# 7) Plot (waterfall for the first output)\n",
    "shap.summary_plot(\n",
    "    shap_values, X_shap_df, plot_type=plot_type, show=False, max_display=15\n",
    ")\n",
    "# fig.savefig(\"shap_single_waterfall.png\")\n"
   ]
  }
 ],
 "metadata": {
  "kernelspec": {
   "display_name": "c29env",
   "language": "python",
   "name": "python3"
  },
  "language_info": {
   "codemirror_mode": {
    "name": "ipython",
    "version": 3
   },
   "file_extension": ".py",
   "mimetype": "text/x-python",
   "name": "python",
   "nbconvert_exporter": "python",
   "pygments_lexer": "ipython3",
   "version": "3.12.0"
  }
 },
 "nbformat": 4,
 "nbformat_minor": 2
}
